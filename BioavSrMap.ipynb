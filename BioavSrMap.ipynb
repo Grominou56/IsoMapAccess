{
 "cells": [
  {
   "cell_type": "code",
   "execution_count": 2,
   "metadata": {},
   "outputs": [],
   "source": [
    "\"\"\"  Import necessary packages \"\"\"\n",
    "\n",
    "import rioxarray as rxr\n",
    "import LoadSaveFunctions as lsf\n",
    "import matplotlib.pyplot as plt\n",
    "import numpy as np\n",
    "import rasterio as rio\n",
    "import os\n",
    "import calendar\n",
    "import pandas as pd\n",
    "import ipyleaflet\n",
    "import ipywidgets as ipw\n",
    "from pyproj import CRS, Transformer"
   ]
  },
  {
   "cell_type": "code",
   "execution_count": null,
   "metadata": {},
   "outputs": [],
   "source": [
    "\"\"\" select file to open with its path \"\"\"\n",
    "\n",
    "file_path = lsf.load_file()"
   ]
  },
  {
   "cell_type": "code",
   "execution_count": null,
   "metadata": {},
   "outputs": [],
   "source": [
    "\"\"\" Load and check raster file \"\"\"\n",
    "\n",
    "try:\n",
    "    data = rxr.open_rasterio(file_path, masked=True)\n",
    "    print(\"Geotiff file loaded successfully.\")\n",
    "    print(data)\n",
    "except Exception as e:\n",
    "    print(f\"Error loading the Geotiff file: {e}\")\n",
    "\n",
    "# View generate metadata associated with the raster file\n",
    "print(\"The crs of your data is:\", data.rio.crs)\n",
    "print(\"The nodatavalue of your data is:\", data.rio.nodata)\n",
    "print(\"The shape of your data is:\", data.shape)\n",
    "print(\"The spatial resolution for your data is:\", data.rio.resolution())\n",
    "print(\"The metadata for your data is:\", data.attrs)\n",
    "print(\"The spatial extent of this data is: \", data.rio.bounds())"
   ]
  },
  {
   "cell_type": "code",
   "execution_count": null,
   "metadata": {},
   "outputs": [],
   "source": [
    "\"\"\" Plot histogram of values \"\"\"\n",
    "\n",
    "f, ax = plt.subplots(figsize=(8, 5))\n",
    "data.plot.hist(ax=ax, color=\"purple\", bins=30, edgecolor='white')\n",
    "ax.set(title=\"Distribution of stable isotope values\",\n",
    "       xlabel='Stable isotope compositions (‰ V-SMOW)',\n",
    "       ylabel='Frequency')\n",
    "plt.show()\n",
    "\n",
    "print(\"The minimum raster value is: \", np.nanmin(data.data))\n",
    "print(\"The maximum raster value is: \", np.nanmax(data.data))"
   ]
  },
  {
   "cell_type": "code",
   "execution_count": null,
   "metadata": {},
   "outputs": [],
   "source": [
    "\"\"\" Plot a limited area of the raster \"\"\"\n",
    "\n",
    "# Définir la projection de ton GeoTIFF (ESRI:54012) et WGS 84 (latitude/longitude)\n",
    "crs_mollweide = CRS.from_string('ESRI:54012')  # CRS pour Mollweide\n",
    "crs_wgs84 = CRS.from_epsg(4326)  # CRS pour WGS 84 (EPSG:4326)\n",
    "\n",
    "# Créer un Transformer pour effectuer les conversions de coordonnées\n",
    "transformer = Transformer.from_crs(crs_wgs84, crs_mollweide, always_xy=True)\n",
    "\n",
    "# Limites géographiques de la France en WGS 84 (longitude, latitude)\n",
    "lon_min, lon_max = -5.14, 9.56\n",
    "lat_min, lat_max = 41.33, 51.09\n",
    "\n",
    "# Convertir ces coordonnées en Mollweide\n",
    "x_min, y_min = transformer.transform(lon_min, lat_min)\n",
    "x_max, y_max = transformer.transform(lon_max, lat_max)\n",
    "\n",
    "# Filtrer les données du GeoTIFF en fonction des coordonnées projetées\n",
    "subset = data.sel(x=slice(x_min, x_max), y=slice(y_max, y_min))  # Attention à l'ordre des coordonnées Y\n",
    "\n",
    "# Plotter la sous-section centrée sur la France\n",
    "plt.figure(figsize=(10, 8))\n",
    "subset.plot(cmap='viridis')\n",
    "plt.title('Portion du GeoTIFF centrée sur la France')\n",
    "plt.show()"
   ]
  },
  {
   "cell_type": "code",
   "execution_count": null,
   "metadata": {},
   "outputs": [],
   "source": [
    "\"\"\" Create a map from openstreetmap centered on given coordinates (latitude, longitude) that we can browse and click to get coordinates \"\"\"\n",
    "\n",
    "# Defining global variables to store latitude, longitude and marker state\n",
    "lat = None\n",
    "lon = None\n",
    "current_marker = None\n",
    "\n",
    "# Create map centered on given coordiantes\n",
    "center = [45.7586, 4.8333]  # Lyon\n",
    "mymap = ipyleaflet.Map(basemap=ipyleaflet.basemaps.Esri.WorldStreetMap, center=center, zoom=3, layout=ipw.Layout(width='1000px', height='600px'), scroll_wheel_zoom = True)\n",
    "\n",
    "\n",
    "# HTML widget to display coordinates\n",
    "coord_label = ipw.HTML(\"Click on map to get coordiantes\")\n",
    "coord_label.value = \"Coordinates : \"\n",
    "\n",
    "# Function to get coordinates by clicking on the map\n",
    "def on_map_interaction(**kwargs):\n",
    "    global lat, lon, current_marker\n",
    "    if kwargs.get('type') == 'click':\n",
    "        lat, lon = kwargs.get('coordinates')\n",
    "        coord_label.value = f\"Coordonnées : Latitude {lat}, Longitude {lon}\"\n",
    "\n",
    "        # Remove existing current marker\n",
    "        if current_marker is not None:\n",
    "            mymap.remove_layer(current_marker)\n",
    "        \n",
    "        # Create new marker on click position\n",
    "        current_marker = ipyleaflet.Marker(location=(lat, lon))\n",
    "        mymap.add_layer(current_marker)\n",
    "\n",
    "# link interaction event with function\n",
    "mymap.on_interaction(on_map_interaction)\n",
    "\n",
    "# Display map and widget\n",
    "ui = ipw.VBox([coord_label, mymap])\n",
    "ui\n",
    "\n",
    "\n"
   ]
  }
 ],
 "metadata": {
  "kernelspec": {
   "display_name": ".venv",
   "language": "python",
   "name": "python3"
  },
  "language_info": {
   "codemirror_mode": {
    "name": "ipython",
    "version": 3
   },
   "file_extension": ".py",
   "mimetype": "text/x-python",
   "name": "python",
   "nbconvert_exporter": "python",
   "pygments_lexer": "ipython3",
   "version": "3.11.2"
  }
 },
 "nbformat": 4,
 "nbformat_minor": 2
}
