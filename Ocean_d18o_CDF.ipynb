{
 "cells": [
  {
   "cell_type": "code",
   "execution_count": 18,
   "metadata": {},
   "outputs": [],
   "source": [
    "\"\"\" Import required packages \"\"\"\n",
    "\n",
    "import netCDF4\n",
    "import numpy as np\n",
    "import LoadSaveFunctions as lsf"
   ]
  },
  {
   "cell_type": "code",
   "execution_count": null,
   "metadata": {},
   "outputs": [],
   "source": [
    "\"\"\" Load netCDF File \"\"\"\n",
    "\n",
    "file_path = lsf.load_file()\n",
    "f = netCDF4.Dataset(file_path)\n",
    "print(f) "
   ]
  },
  {
   "cell_type": "code",
   "execution_count": null,
   "metadata": {},
   "outputs": [],
   "source": [
    "\"\"\"Access variables\"\"\"\n",
    "\n",
    "print(f.variables.keys()) # get all variable names\n",
    "d18o = f.variables['d18o']  # oxygen isotope composition variable\n",
    "print(d18o) "
   ]
  },
  {
   "cell_type": "code",
   "execution_count": null,
   "metadata": {},
   "outputs": [],
   "source": [
    "for d in f.dimensions.items():\n",
    "    print(d)\n",
    "\n",
    "d18o.dimensions\n",
    "d18o.shape"
   ]
  },
  {
   "cell_type": "code",
   "execution_count": null,
   "metadata": {},
   "outputs": [],
   "source": [
    "depth = f.variables['depth']\n",
    "lon,lat = f.variables['lon'], f.variables['lat']\n",
    "print(depth)\n",
    "print(lon)\n",
    "print(lat)  "
   ]
  },
  {
   "cell_type": "code",
   "execution_count": null,
   "metadata": {},
   "outputs": [],
   "source": [
    "# longitude = lon[:]\n",
    "# print(longitude)\n",
    "# latitude = lat[:]\n",
    "# print(latitude)\n",
    "# dpth = depth[:]\n",
    "# print(dpth)\n",
    "d18ow = d18o[:]\n",
    "print('Min value: {:.2f}; Max value: {:.2f}'.format(d18ow.min(), d18ow.max()))"
   ]
  },
  {
   "cell_type": "code",
   "execution_count": 16,
   "metadata": {},
   "outputs": [],
   "source": [
    "f.close()"
   ]
  }
 ],
 "metadata": {
  "kernelspec": {
   "display_name": ".venv",
   "language": "python",
   "name": "python3"
  },
  "language_info": {
   "codemirror_mode": {
    "name": "ipython",
    "version": 3
   },
   "file_extension": ".py",
   "mimetype": "text/x-python",
   "name": "python",
   "nbconvert_exporter": "python",
   "pygments_lexer": "ipython3",
   "version": "3.11.2"
  }
 },
 "nbformat": 4,
 "nbformat_minor": 2
}
